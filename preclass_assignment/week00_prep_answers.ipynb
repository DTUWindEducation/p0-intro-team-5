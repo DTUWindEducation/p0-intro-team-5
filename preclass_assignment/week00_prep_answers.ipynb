{
 "cells": [
  {
   "cell_type": "code",
   "execution_count": 102,
   "metadata": {},
   "outputs": [],
   "source": [
    "import numpy as np"
   ]
  },
  {
   "cell_type": "code",
   "execution_count": 103,
   "metadata": {},
   "outputs": [],
   "source": [
    "def greet(name):\n",
    "\n",
    "    print(f\"Hello, {name}!\")\n",
    "\n"
   ]
  },
  {
   "cell_type": "code",
   "execution_count": 104,
   "metadata": {},
   "outputs": [
    {
     "name": "stdout",
     "output_type": "stream",
     "text": [
      "Hello, Angelos!\n"
     ]
    }
   ],
   "source": [
    "greet(\"Angelos\")"
   ]
  },
  {
   "cell_type": "code",
   "execution_count": 105,
   "metadata": {},
   "outputs": [],
   "source": [
    "def goldilocks(length_of_bed):\n",
    "    if length_of_bed <140:\n",
    "        print(\"Too small bed, Goldilocks is unhappy.\")\n",
    "    elif length_of_bed > 150:\n",
    "        print(\"Too large bed, Goldilocks is unhappy.\")\n",
    "    else:\n",
    "        print(\"Just right :)\")"
   ]
  },
  {
   "cell_type": "code",
   "execution_count": 106,
   "metadata": {},
   "outputs": [
    {
     "name": "stdout",
     "output_type": "stream",
     "text": [
      "Too large bed, Goldilocks is unhappy.\n"
     ]
    }
   ],
   "source": [
    "goldilocks(155)"
   ]
  },
  {
   "cell_type": "code",
   "execution_count": 107,
   "metadata": {},
   "outputs": [],
   "source": [
    "def square_list(numbers):\n",
    "    squared_numbers=[]\n",
    "    for num in numbers:\n",
    "        squared_numbers.append(num**2);\n",
    "    return(squared_numbers);\n"
   ]
  },
  {
   "cell_type": "code",
   "execution_count": 108,
   "metadata": {},
   "outputs": [
    {
     "data": {
      "text/plain": [
       "[1, 16, 81]"
      ]
     },
     "execution_count": 108,
     "metadata": {},
     "output_type": "execute_result"
    }
   ],
   "source": [
    "square_list([1, 4, 9])"
   ]
  },
  {
   "cell_type": "code",
   "execution_count": 109,
   "metadata": {},
   "outputs": [],
   "source": [
    "def squared_list(numbers):\n",
    "    return([num**2 for num in numbers])"
   ]
  },
  {
   "cell_type": "code",
   "execution_count": 110,
   "metadata": {},
   "outputs": [
    {
     "data": {
      "text/plain": [
       "[1, 9, 25]"
      ]
     },
     "execution_count": 110,
     "metadata": {},
     "output_type": "execute_result"
    }
   ],
   "source": [
    "squared_list([1, 3, 5])"
   ]
  },
  {
   "cell_type": "code",
   "execution_count": 111,
   "metadata": {},
   "outputs": [],
   "source": [
    "def fibonacci_stop(max):\n",
    "    \n",
    "    fibonacci = [1, 1]  # Starting sequence\n",
    "    while True:\n",
    "        next_number = fibonacci[-1] + fibonacci[-2]\n",
    "        if next_number > max:\n",
    "            break\n",
    "        fibonacci.append(next_number)\n",
    "    \n",
    "    return fibonacci\n"
   ]
  },
  {
   "cell_type": "code",
   "execution_count": 112,
   "metadata": {},
   "outputs": [
    {
     "data": {
      "text/plain": [
       "[1, 1, 2, 3, 5, 8, 13, 21, 34]"
      ]
     },
     "execution_count": 112,
     "metadata": {},
     "output_type": "execute_result"
    }
   ],
   "source": [
    "fibonacci_stop(45)"
   ]
  },
  {
   "cell_type": "code",
   "execution_count": 116,
   "metadata": {},
   "outputs": [],
   "source": [
    "def clean_pitch(pitch_instruments, status_signals):\n",
    "\n",
    "    cleaned_angles = []\n",
    "\n",
    "    for pitch, status in zip(pitch_instruments, status_signals):\n",
    "        if (pitch < 0 or pitch > 90) and status > 0:\n",
    "            cleaned_angles.append(-999) \n",
    "        else:\n",
    "            cleaned_angles.append(pitch)  \n",
    "    return cleaned_angles\n"
   ]
  },
  {
   "cell_type": "code",
   "execution_count": 119,
   "metadata": {},
   "outputs": [
    {
     "data": {
      "text/plain": [
       "[-999, 2, 6, 95]"
      ]
     },
     "execution_count": 119,
     "metadata": {},
     "output_type": "execute_result"
    }
   ],
   "source": [
    "\n",
    "x = [-1, 2, 6, 95] \n",
    "status = [1, 0, 0, 0]  \n",
    "clean_pitch(x, status) "
   ]
  }
 ],
 "metadata": {
  "kernelspec": {
   "display_name": "02450-ML",
   "language": "python",
   "name": "python3"
  },
  "language_info": {
   "codemirror_mode": {
    "name": "ipython",
    "version": 3
   },
   "file_extension": ".py",
   "mimetype": "text/x-python",
   "name": "python",
   "nbconvert_exporter": "python",
   "pygments_lexer": "ipython3",
   "version": "3.11.9"
  }
 },
 "nbformat": 4,
 "nbformat_minor": 2
}
